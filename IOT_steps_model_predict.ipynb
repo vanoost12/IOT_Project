{
  "nbformat": 4,
  "nbformat_minor": 0,
  "metadata": {
    "colab": {
      "provenance": []
    },
    "kernelspec": {
      "name": "python3",
      "display_name": "Python 3"
    },
    "language_info": {
      "name": "python"
    }
  },
  "cells": [
    {
      "cell_type": "code",
      "execution_count": 14,
      "metadata": {
        "id": "fYy9DDPamfyj"
      },
      "outputs": [],
      "source": [
        "import numpy as np\n",
        "import pandas as pd\n",
        "from xgboost import XGBRegressor\n",
        "from sklearn.ensemble import RandomForestClassifier\n",
        "import pickle\n",
        "# import os\n",
        "\n",
        "def predict(file_path):\n",
        "  df_file = pd.read_csv(file_path,header=1,skip_blank_lines=True,skiprows =[0,1,2,3])\n",
        "  df_file_info = pd.read_csv(file_path,header=None,nrows=4,skip_blank_lines=True)\n",
        "  activity = df_file_info.iloc[2,1].lower()\n",
        "  activity = 'run' if 'run' in activity else 'walk'\n",
        "  actucal_steps = df_file_info.iloc[3,1]\n",
        "\n",
        "  norm = []\n",
        "  cols = df_file.columns\n",
        "  for i, row in df_file.iterrows():\n",
        "    x = float(row[cols[1]])\n",
        "    y = float(row[cols[2]])\n",
        "    z = float(row[cols[3]])\n",
        "    norm.append((x**2 + y**2 + z**2) ** 0.5)\n",
        "  norm = np.array(norm)\n",
        "  df_file['norm'] = norm\n",
        "  features = []\n",
        "  cols = df_file.columns\n",
        "  for col_name in [cols[0],cols[3],cols[4]]:\n",
        "    vals = df_file[col_name].values\n",
        "    vals_lag = vals-(np.append(vals[1:],0))\n",
        "    vals_2lag = vals-(np.append(vals[2:],[0,0]))\n",
        "    features.append(vals.mean())\n",
        "    features.append(vals.std())\n",
        "    features.append(vals.max())\n",
        "    features.append(vals.min())\n",
        "    features.append(vals_lag.mean())\n",
        "    features.append(vals_lag.std())\n",
        "    features.append(vals_lag.max())\n",
        "    features.append(vals_lag.min())\n",
        "    features.append(vals_2lag.mean())\n",
        "    features.append(vals_2lag.std())\n",
        "    features.append(vals_2lag.max())\n",
        "    features.append(vals_2lag.min())\n",
        "  fft = np.fft.fft(norm)\n",
        "  time_vals = df_file[cols[0]].values\n",
        "  dt = time_vals[1]-time_vals[0]\n",
        "  n = len(norm)\n",
        "  frequencies = np.fft.fftfreq(n, dt)\n",
        "  features.append(len(time_vals))\n",
        "  features.append(frequencies.mean())\n",
        "  features.append(frequencies.std())\n",
        "  features.append(frequencies.max())\n",
        "  features.append(frequencies.min())\n",
        "  features = np.array(features)\n",
        "  X=[]\n",
        "  X.append(features)\n",
        "  X = np.stack(X)\n",
        "  X = np.nan_to_num(X, copy=True, nan=0.0, posinf=None, neginf=None)\n",
        "  activity_model = pickle.load(open('random_forest_model.pkl', 'rb'))\n",
        "  activity_pred = activity_model.predict(X)\n",
        "  if activity_pred == 1:\n",
        "    run_model = pickle.load(open('steps_run_model.pkl', 'rb'))\n",
        "    predictions = run_model.predict(X).round()\n",
        "    activity_name = \"Running\"\n",
        "  else:\n",
        "    walk_model = pickle.load(open('steps_walk_model.pkl', 'rb'))\n",
        "    predictions = walk_model.predict(X).round()\n",
        "    activity_name = \"Walking\"\n",
        "  print(f\"Predicted activity is: {activity_name}, steps counted: {int(predictions[0])}\")\n",
        "  return [int(predictions[0]),activity_pred[0]]\n",
        "\n"
      ]
    },
    {
      "cell_type": "code",
      "source": [
        "# directory_path = \"/content/data/\"\n",
        "# directory_files = os.listdir(directory_path)\n",
        "# for path in directory_files:\n",
        "#   predictions = predict(directory_path+path)\n",
        "#   [steps_pred,activity_pred] = predictions\n",
        "#   print(path)\n",
        "#   print(steps_pred)\n",
        "#   print(activity_pred)"
      ],
      "metadata": {
        "id": "cWpAOi6cmzjh",
        "colab": {
          "base_uri": "https://localhost:8080/"
        },
        "outputId": "264776ac-434b-48a1-a654-5a1aa6e26f16"
      },
      "execution_count": 15,
      "outputs": [
        {
          "output_type": "stream",
          "name": "stdout",
          "text": [
            "Predicted activity is: Walking, steps counted: 88\n",
            "walk_5_3.csv\n",
            "88\n",
            "0\n",
            "Predicted activity is: Running, steps counted: 111\n",
            "run_2_3.csv\n",
            "111\n",
            "1\n",
            "Predicted activity is: Running, steps counted: 120\n",
            "run_1_3.csv\n",
            "120\n",
            "1\n",
            "Predicted activity is: Running, steps counted: 110\n",
            "run_3_3.csv\n",
            "110\n",
            "1\n",
            "Predicted activity is: Running, steps counted: 66\n",
            "run_5_2.csv\n",
            "66\n",
            "1\n",
            "Predicted activity is: Running, steps counted: 57\n",
            "run_4_3.csv\n",
            "57\n",
            "1\n",
            "Predicted activity is: Walking, steps counted: 90\n",
            "walk_4_3.csv\n",
            "90\n",
            "0\n",
            "Predicted activity is: Walking, steps counted: 53\n",
            "walk_1_2.csv\n",
            "53\n",
            "0\n",
            "Predicted activity is: Walking, steps counted: 50\n",
            "walk_2_2.csv\n",
            "50\n",
            "0\n",
            "Predicted activity is: Walking, steps counted: 90\n",
            "walk_3_2.csv\n",
            "90\n",
            "0\n"
          ]
        }
      ]
    },
    {
      "cell_type": "code",
      "source": [],
      "metadata": {
        "id": "YJqB-F34CxEc"
      },
      "execution_count": null,
      "outputs": []
    }
  ]
}